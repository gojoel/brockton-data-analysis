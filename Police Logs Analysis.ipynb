{
 "cells": [
  {
   "cell_type": "markdown",
   "metadata": {},
   "source": [
    "## Analyzing Police Logs - City of Brockton, MA\n"
   ]
  },
  {
   "cell_type": "code",
   "execution_count": 545,
   "metadata": {},
   "outputs": [],
   "source": [
    "import pandas as pd\n",
    "import numpy as np\n",
    "import tabula\n",
    "import re\n",
    "import datetime\n",
    "\n",
    "import requests\n",
    "from bs4 import BeautifulSoup\n",
    "from urllib.parse import urljoin\n",
    "\n",
    "import os\n",
    "from os import listdir\n",
    "from os.path import isfile, join\n",
    "\n",
    "import geopandas as gpd\n",
    "import geopy\n",
    "from geopy.geocoders import Nominatim\n",
    "from geopy.extra.rate_limiter import RateLimiter\n",
    "\n",
    "import folium\n",
    "from folium.plugins import FastMarkerCluster\n",
    "from folium.plugins import HeatMap, HeatMapWithTime"
   ]
  },
  {
   "cell_type": "markdown",
   "metadata": {},
   "source": [
    "** Gather Data **"
   ]
  },
  {
   "cell_type": "code",
   "execution_count": 546,
   "metadata": {},
   "outputs": [],
   "source": [
    "def fetch_logs(month, year, dir='logs'):\n",
    "    url = \"http://www.brocktonpolice.com/wp-content/uploads/{}/{}/\".format(year, month)    \n",
    "    folder_location = os.path.join(dir, year, month)\n",
    "    if not os.path.exists(folder_location):os.makedirs(folder_location)\n",
    "    \n",
    "    response = requests.get(url)\n",
    "    soup = BeautifulSoup(response.text, \"html.parser\")     \n",
    "    for link in soup.select(\"a[href$='.pdf']\"):\n",
    "        # Name the pdf files using the last portion of each link which are unique in this case\n",
    "        filename = os.path.join(folder_location,link['href'].split('/')[-1])\n",
    "        print('Downloading {}...'.format(filename)) # TODO: remove, testing purpose\n",
    "        with open(filename, 'wb') as f:\n",
    "            f.write(requests.get(urljoin(url,link['href'])).content)\n",
    "\n",
    "def parse_logs(verbose=False):\n",
    "    path = 'logs'\n",
    "    files = [f for f in listdir(path) if isfile(join(path, f))]\n",
    "    calls = pd.DataFrame(columns=call_columns)\n",
    "    \n",
    "    for root, dirs, files in os.walk(\"logs\"):\n",
    "        dirs.sort()\n",
    "        files.sort()\n",
    "        path = root.split(os.sep)\n",
    "\n",
    "        if verbose:\n",
    "            print(\"* Checking directory: {}\".format(root))\n",
    "        \n",
    "        for i in range(len(files)):\n",
    "            file = files[i]\n",
    "            file_path = os.path.join(root, file)\n",
    "\n",
    "            if not is_valid_file(file):\n",
    "                continue\n",
    "            \n",
    "            if verbose:\n",
    "                print(\"** Parsing: {}, {}/{}\".format(file, i, len(files)))\n",
    "                \n",
    "            file_name = file.split(\".\")[0]\n",
    "            date = get_date_from_name(file_name)\n",
    "            pages = tabula.read_pdf(file_path, pages='all')\n",
    "            file_calls = parse_pages(pages)\n",
    "            file_calls['Date'] = date\n",
    "            calls = calls.append([file_calls], ignore_index = True) \n",
    "    \n",
    "    return calls\n",
    "\n",
    "def parse_pages(pages):\n",
    "    page_columns = ['Column', 'Value', 'Action']\n",
    "    short_page_columns = ['Column', 'Value/Action']\n",
    "    calls = pd.DataFrame(columns=call_columns)\n",
    "    \n",
    "    for i in range(len(pages)):\n",
    "        page = pages[i]\n",
    "        is_short_page = False\n",
    "        \n",
    "        if 'Unnamed: 0' in page:\n",
    "            page.drop('Unnamed: 0', axis=1, inplace=True) # provides no data\n",
    "\n",
    "        if len(page.columns) < 2 or len(page.columns) > 3:\n",
    "            continue\n",
    "            \n",
    "        if len(page.columns) == 2:\n",
    "            is_short_page = True\n",
    "            \n",
    "        columns = short_page_columns if is_short_page else page_columns    \n",
    "\n",
    "        # save current columns\n",
    "        prev_columns = page.columns.tolist()\n",
    "        page.columns = columns\n",
    "\n",
    "        # append original columns as an entry \n",
    "        df_prev_columns = pd.DataFrame([prev_columns], columns=columns)\n",
    "        updated_page = page.append(df_prev_columns, ignore_index=True)\n",
    "        updated_page.fillna(\"None\", inplace=True)\n",
    "\n",
    "        entry_values = None\n",
    "\n",
    "        for index, row in updated_page.iterrows():\n",
    "            column_name = str(row[columns[0]])\n",
    "            column_value = row[columns[1]]\n",
    "\n",
    "            if is_new_call(column_name):\n",
    "                if index > 0 and entry_values != None:\n",
    "                    # add previous call as entry before we parse new call\n",
    "                    call = pd.DataFrame([entry_values.values()], columns=call_columns)\n",
    "                    calls = calls.append([call], ignore_index = True) \n",
    "\n",
    "                entry_values = {column: None for column in call_columns}\n",
    "                entry_values['Call Number'] = get_call_number(column_name)\n",
    "                entry_values['Call Time'] = get_call_time(column_name)\n",
    "                \n",
    "                if is_short_page:\n",
    "                    # reason and action values combined in short pages\n",
    "                    reason_action = get_reason_action(column_value)\n",
    "                    \n",
    "                    if reason_action != None:\n",
    "                        entry_values['Reason'], entry_values['Action'] = reason_action\n",
    "                    else:    \n",
    "                        # unable to split reason and action\n",
    "                        entry_values['Reason'] = column_value\n",
    "                        entry_values['Action'] = column_value\n",
    "                else:\n",
    "                    action = row[columns[2]]\n",
    "                    entry_values['Reason'] = column_value\n",
    "                    entry_values['Action'] = action                    \n",
    "            else:\n",
    "                # TODO: find better approach to parsing pages when first row isn't a call number    \n",
    "                if entry_values == None or entry_values['Call Number'] == None:\n",
    "                    continue\n",
    "                    \n",
    "                filter_column_name = column_name.replace(\":\", \"\")\n",
    "                if filter_column_name in entry_values:\n",
    "                    entry_values[filter_column_name] = column_value\n",
    "    return calls             "
   ]
  },
  {
   "cell_type": "markdown",
   "metadata": {},
   "source": [
    "** Utils **"
   ]
  },
  {
   "cell_type": "code",
   "execution_count": 547,
   "metadata": {},
   "outputs": [],
   "source": [
    "def get_call_types(path):\n",
    "    with open(path) as f:\n",
    "        return f.read().splitlines()\n",
    "    \n",
    "def is_valid_file(filename):\n",
    "    pattern = re.compile(\"^(\\d{8}.pdf)$\")\n",
    "    return bool(pattern.match(filename))\n",
    "\n",
    "def get_date_from_name(filename):\n",
    "    return re.sub(\"[^0-9]\", \"\", filename)\n",
    "    \n",
    "def get_call_number(str):\n",
    "    return str[:-4].strip()\n",
    "\n",
    "def get_call_time(str):\n",
    "    return str[-4:].strip()\n",
    "\n",
    "def is_new_call(str):\n",
    "    pattern = re.compile(\"^(\\d\\d-[\\d]+)$\")\n",
    "    return bool(pattern.match(str))\n",
    "\n",
    "def get_reason_action(text):\n",
    "    for type in call_types:\n",
    "        updated_type = type.strip().lower()\n",
    "        res = re.search(r'\\b({})\\b'.format(updated_type), text.lower())\n",
    "        if res != None:\n",
    "            action = text[len(updated_type):]\n",
    "            return (type, action.strip())\n",
    "    return None  \n",
    "\n",
    "def get_hour(dateTime):\n",
    "    return dateTime.hour\n",
    "\n",
    "def get_month(dateTime):\n",
    "    return dateTime.month\n",
    "\n",
    "def get_dayOfWeek(dateTime):\n",
    "    return dateTime.weekday()\n",
    "\n",
    "def format_street_name(street):\n",
    "    return re.sub(\"(\\[BRO\\s*[A-Za-z0-9]*\\])\", \"\", street).strip()\n",
    "    \n",
    "def format_address(street):\n",
    "    if street == None: return\n",
    "    street = format_street_name(street)\n",
    "    return \"{}, BROCKTON, MA\".format(street)\n",
    "\n",
    "def get_postal(df, reverse):\n",
    "    location_info = reverse((df['Latitude'], df['Longitude']), language='en')\n",
    "    address_map = location_info.raw['address']\n",
    "    if 'postcode' in address_map:\n",
    "        return address_map['postcode']\n",
    "    else:\n",
    "        return None\n",
    "    \n",
    "def get_locations(df, reason, count=10):\n",
    "    reason_df = df[df['Reason'] == reason]\n",
    "    return reason_df.groupby('Address').size().sort_values(ascending = False).head(count)\n",
    "  \n",
    "# Visualization     \n",
    "def show_locations(df, reason, count=10):\n",
    "    return locations_for_reason(df, reason, count).sort_values().plot(kind='barh')\n",
    "\n",
    "def show_hourly_occurrence(df, reason):\n",
    "    df[df['Reason'] == reason].groupby('Hour').size().plot(kind='bar') \n",
    "\n",
    "def show_monthly_occurrence(df, reason):\n",
    "    df[df['Reason'] == reason].groupby('Month').size().plot(kind='bar') \n",
    "    \n",
    "def show_month_hour_occurrence(df, reason):\n",
    "    reason_df = df[df['Reason'] == reason]\n",
    "    reason_df.groupby(['Month','Hour']).size().unstack(0).plot(subplots=True, kind = 'bar', figsize = (5, 30))                                                               \n",
    "                                                               \n",
    "def get_map():\n",
    "    return folium.Map(location = [42.083431, -71.018379],\n",
    "                     tiles='cartoDB dark_matter',\n",
    "                     zoom_start=12)\n",
    "\n",
    "def display_map(map_df):\n",
    "    map = get_map()\n",
    "    map_df.apply(lambda row: folium.CircleMarker(location = [row['Latitude'], row['Longitude']]).add_to(map), axis=1)\n",
    "    return map\n",
    "\n",
    "def display_cluster_map(map_df):\n",
    "    map = get_map()\n",
    "    FastMarkerCluster(data=list(zip(map_df['Latitude'].values, map_df['Longitude'].values))).add_to(map)\n",
    "    folium.LayerControl().add_to(map)\n",
    "    return map\n",
    "\n",
    "def display_cluster_for_reason(df, reason):\n",
    "    filter_df = df[df['Reason'] == reason]\n",
    "    filter_df = filter_df[pd.notnull(filter_df['Latitude'])]\n",
    "    return display_cluster_map(filter_df)\n",
    "\n",
    "def display_heatmap_for_reason(df, reason):\n",
    "        filter_df = df[df['Reason'] == reason]\n",
    "        filter_df = filter_df[pd.notnull(filter_df['Latitude'])]\n",
    "        \n",
    "        heat_df = filter_df[['Latitude', 'Longitude']]\n",
    "        heat_data = [[row['Latitude'],row['Longitude']] for index, row in heat_df.iterrows()]\n",
    "        \n",
    "        map = get_map()\n",
    "        HeatMap(heat_data, radius=15).add_to(map)\n",
    "        return map\n",
    "    \n",
    "def display_time_heatmap_for_reason(df, reason):\n",
    "    filter_df = df[df['Reason'] == reason]\n",
    "    filter_df = filter_df[pd.notnull(filter_df['Latitude'])]\n",
    "\n",
    "    df_month_list = []\n",
    "    for month in filter_df.Month.sort_values().unique():\n",
    "        df_month_list.append(filter_df.loc[filter_df.Month == month, ['Latitude', 'Longitude']].groupby(['Latitude', 'Longitude']).sum().reset_index().values.tolist())\n",
    "    \n",
    "    map = get_map()\n",
    "    HeatMapWithTime(df_month_list, radius=5, gradient={0.2: 'blue', 0.4: 'lime', 0.6: 'orange', 1: 'red'}, min_opacity=0.5, max_opacity=0.8, use_local_extrema=True).add_to(map)\n",
    "    return map"
   ]
  },
  {
   "cell_type": "code",
   "execution_count": 548,
   "metadata": {},
   "outputs": [],
   "source": [
    "call_types = get_call_types('call_types')\n",
    "call_columns = ['Call Number', 'Call Time', 'Call Taker', 'Reason', 'Action', 'ID', 'Location/Address', 'Date']\n",
    "weekday_map = {0:'Mon', 1:'Tue', 2:'Wed', 3:'Thu', 4:'Fri', 5:'Sat', 6:'Sun'}"
   ]
  },
  {
   "cell_type": "markdown",
   "metadata": {},
   "source": [
    "### Data Setup / Cleanup"
   ]
  },
  {
   "cell_type": "code",
   "execution_count": 549,
   "metadata": {},
   "outputs": [],
   "source": [
    "# parse logs and persist result\n",
    "# calls = parse_logs(True)\n",
    "# calls.to_pickle('cached_calls.pkl')\n",
    "\n",
    "# read data from cache\n",
    "calls = pd.read_pickle('cached_calls.pkl')"
   ]
  },
  {
   "cell_type": "code",
   "execution_count": 550,
   "metadata": {},
   "outputs": [],
   "source": [
    "# remove any missing values or duplicates\n",
    "calls.dropna(inplace=True)\n",
    "calls.drop_duplicates(subset=['Call Number'], inplace=True)"
   ]
  },
  {
   "cell_type": "markdown",
   "metadata": {},
   "source": [
    "** Set date and time ** "
   ]
  },
  {
   "cell_type": "code",
   "execution_count": 551,
   "metadata": {},
   "outputs": [],
   "source": [
    "calls['timeStamp'] = pd.to_datetime(calls['Date'] + ' ' + calls['Call Time'], errors='coerce')\n",
    "calls['Hour'] = calls['timeStamp'].apply(lambda time: time.hour)\n",
    "calls['Month'] = calls['timeStamp'].apply(lambda time: time.month)\n",
    "calls['Day of Week'] = calls['timeStamp'].apply(lambda time: time.dayofweek)\n",
    "calls['Day of Week'] = calls['Day of Week'].map(weekday_map)"
   ]
  },
  {
   "cell_type": "markdown",
   "metadata": {},
   "source": [
    "** Get location info (address, lat, lng) ** "
   ]
  },
  {
   "cell_type": "code",
   "execution_count": 552,
   "metadata": {},
   "outputs": [],
   "source": [
    "calls.rename(columns={\"Location/Address\": \"Street\"}, inplace=True)\n",
    "calls['Address'] = calls['Street'].apply(lambda x: format_address(x))"
   ]
  },
  {
   "cell_type": "code",
   "execution_count": 553,
   "metadata": {},
   "outputs": [],
   "source": [
    "# read cached location data\n",
    "try:\n",
    "    cached_locations = pd.read_pickle('cached_locations.pkl')\n",
    "except (FileNotFoundError) as e:\n",
    "    cached_locations = pd.DataFrame(columns = ['Address']) \n",
    "\n",
    "# get list of addresses from calls not in cache    \n",
    "cached_address = cached_locations[\"Address\"].tolist()\n",
    "call_address = calls['Address'].unique()\n",
    "query_address = [address for address in call_address if address not in cached_address]\n",
    "locations = pd.Series(query_address, name='Address').to_frame()"
   ]
  },
  {
   "cell_type": "code",
   "execution_count": 186,
   "metadata": {},
   "outputs": [],
   "source": [
    "# fetch lat, lng\n",
    "locator = Nominatim(user_agent='myGeocoder')\n",
    "geocode = RateLimiter(locator.geocode, min_delay_seconds=1)\n",
    "locations['Location'] = locations['Address'].apply(geocode)\n",
    "\n",
    "locations['Point'] = locations['Location'].apply(lambda loc: tuple(loc.point) if loc else None)\n",
    "locations.dropna(inplace=True)\n",
    "\n",
    "locations[['Latitude', 'Longitude', 'Altitude']] = pd.DataFrame(locations['Point'].tolist(), index=locations.index)\n",
    "locations.drop('Altitude', axis=1, inplace=True)"
   ]
  },
  {
   "cell_type": "code",
   "execution_count": 218,
   "metadata": {},
   "outputs": [],
   "source": [
    "# get postal code\n",
    "reverse = RateLimiter(locator.reverse, min_delay_seconds=1)\n",
    "locations['PostalCode'] = locations.apply(get_postal, axis=1, reverse=reverse)"
   ]
  },
  {
   "cell_type": "code",
   "execution_count": 558,
   "metadata": {},
   "outputs": [],
   "source": [
    "# merge with cache data and save\n",
    "if cached_locations.empty:\n",
    "    locations.to_pickle('cached_locations.pkl')\n",
    "else:\n",
    "    locations = pd.concat([cached_locations, locations], ignore_index=True)\n",
    "    locations.to_pickle('cached_locations.pkl')"
   ]
  },
  {
   "cell_type": "code",
   "execution_count": 560,
   "metadata": {},
   "outputs": [],
   "source": [
    "calls = pd.merge(calls,locations,how='left',on='Address')"
   ]
  },
  {
   "cell_type": "markdown",
   "metadata": {},
   "source": [
    "### Exploratory Data Analysis"
   ]
  },
  {
   "cell_type": "markdown",
   "metadata": {},
   "source": [
    "** Top 5 officers reporting to incidents ** "
   ]
  },
  {
   "cell_type": "code",
   "execution_count": 561,
   "metadata": {},
   "outputs": [
    {
     "data": {
      "text/plain": [
       "Patrolman Richard J Gaucher      1450\n",
       "Patrolman David F Santos          961\n",
       "Patrolman Joe C Miranda           681\n",
       "Patrolman Franck B Coulanges      656\n",
       "Patrolman Alexander C Burrell     642\n",
       "Name: ID, dtype: int64"
      ]
     },
     "execution_count": 561,
     "metadata": {},
     "output_type": "execute_result"
    }
   ],
   "source": [
    "calls['ID'].value_counts().head(5)"
   ]
  },
  {
   "cell_type": "markdown",
   "metadata": {},
   "source": [
    "** Top 5 incident locations/address **"
   ]
  },
  {
   "cell_type": "code",
   "execution_count": 562,
   "metadata": {},
   "outputs": [
    {
     "data": {
      "text/plain": [
       "470 FOREST AVE, BROCKTON, MA     412\n",
       "200 WESTGATE DR, BROCKTON, MA    387\n",
       "105 BELAIR ST, BROCKTON, MA      244\n",
       "54 N MAIN ST, BROCKTON, MA       195\n",
       "7 COMMERCIAL ST, BROCKTON, MA    191\n",
       "Name: Address, dtype: int64"
      ]
     },
     "execution_count": 562,
     "metadata": {},
     "output_type": "execute_result"
    }
   ],
   "source": [
    "calls['Address'].value_counts().head(5)"
   ]
  },
  {
   "cell_type": "markdown",
   "metadata": {},
   "source": [
    "** Most common actions **"
   ]
  },
  {
   "cell_type": "code",
   "execution_count": 563,
   "metadata": {},
   "outputs": [
    {
     "data": {
      "text/plain": [
       "Matter Settled             8516\n",
       "FALSE ALARM                3747\n",
       "Report taken               3660\n",
       "Citation/Warning Issued    3231\n",
       "False 911 Call             3077\n",
       "Name: Action, dtype: int64"
      ]
     },
     "execution_count": 563,
     "metadata": {},
     "output_type": "execute_result"
    }
   ],
   "source": [
    "calls['Action'].value_counts().head(5)"
   ]
  },
  {
   "cell_type": "markdown",
   "metadata": {},
   "source": [
    "** Most common incidents **"
   ]
  },
  {
   "cell_type": "code",
   "execution_count": 564,
   "metadata": {},
   "outputs": [
    {
     "data": {
      "text/plain": [
       "MOTOR VEHICLE STOP    5524\n",
       "DISTURBANCE           5202\n",
       "Alarm Telephone       3717\n",
       "M V A                 2917\n",
       "911 Verify Call       2692\n",
       "Name: Reason, dtype: int64"
      ]
     },
     "execution_count": 564,
     "metadata": {},
     "output_type": "execute_result"
    }
   ],
   "source": [
    "calls['Reason'].value_counts().head(5)"
   ]
  },
  {
   "cell_type": "markdown",
   "metadata": {},
   "source": [
    "** Most common action taken per incident type ** "
   ]
  },
  {
   "cell_type": "code",
   "execution_count": 565,
   "metadata": {},
   "outputs": [
    {
     "data": {
      "text/html": [
       "<div>\n",
       "<style scoped>\n",
       "    .dataframe tbody tr th:only-of-type {\n",
       "        vertical-align: middle;\n",
       "    }\n",
       "\n",
       "    .dataframe tbody tr th {\n",
       "        vertical-align: top;\n",
       "    }\n",
       "\n",
       "    .dataframe thead th {\n",
       "        text-align: right;\n",
       "    }\n",
       "</style>\n",
       "<table border=\"1\" class=\"dataframe\">\n",
       "  <thead>\n",
       "    <tr style=\"text-align: right;\">\n",
       "      <th></th>\n",
       "      <th>Reason</th>\n",
       "      <th>Action</th>\n",
       "    </tr>\n",
       "  </thead>\n",
       "  <tbody>\n",
       "    <tr>\n",
       "      <th>0</th>\n",
       "      <td>911 False Call</td>\n",
       "      <td>False 911 Call</td>\n",
       "    </tr>\n",
       "    <tr>\n",
       "      <th>1</th>\n",
       "      <td>911 Hang Up</td>\n",
       "      <td>False 911 Call</td>\n",
       "    </tr>\n",
       "    <tr>\n",
       "      <th>2</th>\n",
       "      <td>911 Unknown Emergency</td>\n",
       "      <td>False 911 Call</td>\n",
       "    </tr>\n",
       "    <tr>\n",
       "      <th>3</th>\n",
       "      <td>911 Verify Call</td>\n",
       "      <td>False 911 Call</td>\n",
       "    </tr>\n",
       "    <tr>\n",
       "      <th>4</th>\n",
       "      <td>A &amp; B Dangerous Weapon Gun Hot Sheet</td>\n",
       "      <td>A &amp; B Dangerous Weapon Gun Hot Sheet</td>\n",
       "    </tr>\n",
       "    <tr>\n",
       "      <th>...</th>\n",
       "      <td>...</td>\n",
       "      <td>...</td>\n",
       "    </tr>\n",
       "    <tr>\n",
       "      <th>213</th>\n",
       "      <td>VANDALISM</td>\n",
       "      <td>Report taken</td>\n",
       "    </tr>\n",
       "    <tr>\n",
       "      <th>214</th>\n",
       "      <td>Vehicle Fire</td>\n",
       "      <td>Matter Settled</td>\n",
       "    </tr>\n",
       "    <tr>\n",
       "      <th>215</th>\n",
       "      <td>Water Ban Violation Citation/Warning Issued</td>\n",
       "      <td>Water Ban Violation Citation/Warning Issued</td>\n",
       "    </tr>\n",
       "    <tr>\n",
       "      <th>216</th>\n",
       "      <td>Water Ban Violation Clear No Action Needed</td>\n",
       "      <td>Water Ban Violation Clear No Action Needed</td>\n",
       "    </tr>\n",
       "    <tr>\n",
       "      <th>217</th>\n",
       "      <td>Water Ban Violation Vehicle Towed</td>\n",
       "      <td>Water Ban Violation Vehicle Towed</td>\n",
       "    </tr>\n",
       "  </tbody>\n",
       "</table>\n",
       "<p>218 rows × 2 columns</p>\n",
       "</div>"
      ],
      "text/plain": [
       "                                          Reason  \\\n",
       "0                                 911 False Call   \n",
       "1                                    911 Hang Up   \n",
       "2                          911 Unknown Emergency   \n",
       "3                                911 Verify Call   \n",
       "4           A & B Dangerous Weapon Gun Hot Sheet   \n",
       "..                                           ...   \n",
       "213                                    VANDALISM   \n",
       "214                                 Vehicle Fire   \n",
       "215  Water Ban Violation Citation/Warning Issued   \n",
       "216   Water Ban Violation Clear No Action Needed   \n",
       "217            Water Ban Violation Vehicle Towed   \n",
       "\n",
       "                                          Action  \n",
       "0                                 False 911 Call  \n",
       "1                                 False 911 Call  \n",
       "2                                 False 911 Call  \n",
       "3                                 False 911 Call  \n",
       "4           A & B Dangerous Weapon Gun Hot Sheet  \n",
       "..                                           ...  \n",
       "213                                 Report taken  \n",
       "214                               Matter Settled  \n",
       "215  Water Ban Violation Citation/Warning Issued  \n",
       "216   Water Ban Violation Clear No Action Needed  \n",
       "217            Water Ban Violation Vehicle Towed  \n",
       "\n",
       "[218 rows x 2 columns]"
      ]
     },
     "execution_count": 565,
     "metadata": {},
     "output_type": "execute_result"
    }
   ],
   "source": [
    "calls.groupby('Reason')['Action'].apply(lambda x: x.value_counts().index[0]).reset_index()"
   ]
  },
  {
   "cell_type": "markdown",
   "metadata": {},
   "source": [
    "** Most common incident by location/address **"
   ]
  },
  {
   "cell_type": "code",
   "execution_count": 566,
   "metadata": {},
   "outputs": [
    {
     "data": {
      "text/html": [
       "<div>\n",
       "<style scoped>\n",
       "    .dataframe tbody tr th:only-of-type {\n",
       "        vertical-align: middle;\n",
       "    }\n",
       "\n",
       "    .dataframe tbody tr th {\n",
       "        vertical-align: top;\n",
       "    }\n",
       "\n",
       "    .dataframe thead th {\n",
       "        text-align: right;\n",
       "    }\n",
       "</style>\n",
       "<table border=\"1\" class=\"dataframe\">\n",
       "  <thead>\n",
       "    <tr style=\"text-align: right;\">\n",
       "      <th></th>\n",
       "      <th>Address</th>\n",
       "      <th>Reason</th>\n",
       "      <th>Count</th>\n",
       "    </tr>\n",
       "  </thead>\n",
       "  <tbody>\n",
       "    <tr>\n",
       "      <th>10132</th>\n",
       "      <td>470 FOREST AVE, BROCKTON, MA</td>\n",
       "      <td>TRAFFIC CONTROL</td>\n",
       "      <td>257</td>\n",
       "    </tr>\n",
       "    <tr>\n",
       "      <th>763</th>\n",
       "      <td>105 BELAIR ST, BROCKTON, MA</td>\n",
       "      <td>Community Police Call</td>\n",
       "      <td>191</td>\n",
       "    </tr>\n",
       "    <tr>\n",
       "      <th>12936</th>\n",
       "      <td>715 BELMONT ST, BROCKTON, MA</td>\n",
       "      <td>TRAFFIC CONTROL</td>\n",
       "      <td>125</td>\n",
       "    </tr>\n",
       "    <tr>\n",
       "      <th>14704</th>\n",
       "      <td>917 MONTELLO ST, BROCKTON, MA</td>\n",
       "      <td>MISSING PERSON</td>\n",
       "      <td>118</td>\n",
       "    </tr>\n",
       "    <tr>\n",
       "      <th>12825</th>\n",
       "      <td>700 BELMONT ST, BROCKTON, MA</td>\n",
       "      <td>TRAFFIC CONTROL</td>\n",
       "      <td>89</td>\n",
       "    </tr>\n",
       "    <tr>\n",
       "      <th>11001</th>\n",
       "      <td>54 N MAIN ST, BROCKTON, MA</td>\n",
       "      <td>DISTURBANCE</td>\n",
       "      <td>80</td>\n",
       "    </tr>\n",
       "    <tr>\n",
       "      <th>13273</th>\n",
       "      <td>75 MONTELLO ST @ 74 CENTRE ST, BROCKTON, MA</td>\n",
       "      <td>MOTOR VEHICLE STOP</td>\n",
       "      <td>73</td>\n",
       "    </tr>\n",
       "    <tr>\n",
       "      <th>12552</th>\n",
       "      <td>680 CENTRE ST, BROCKTON, MA</td>\n",
       "      <td>DISTURBANCE</td>\n",
       "      <td>66</td>\n",
       "    </tr>\n",
       "    <tr>\n",
       "      <th>7320</th>\n",
       "      <td>308 MONTELLO ST, BROCKTON, MA</td>\n",
       "      <td>Alarm Telephone</td>\n",
       "      <td>65</td>\n",
       "    </tr>\n",
       "    <tr>\n",
       "      <th>4744</th>\n",
       "      <td>200 WESTGATE DR, BROCKTON, MA</td>\n",
       "      <td>Alarm Telephone</td>\n",
       "      <td>62</td>\n",
       "    </tr>\n",
       "  </tbody>\n",
       "</table>\n",
       "</div>"
      ],
      "text/plain": [
       "                                           Address                 Reason  \\\n",
       "10132                 470 FOREST AVE, BROCKTON, MA        TRAFFIC CONTROL   \n",
       "763                    105 BELAIR ST, BROCKTON, MA  Community Police Call   \n",
       "12936                 715 BELMONT ST, BROCKTON, MA        TRAFFIC CONTROL   \n",
       "14704                917 MONTELLO ST, BROCKTON, MA         MISSING PERSON   \n",
       "12825                 700 BELMONT ST, BROCKTON, MA        TRAFFIC CONTROL   \n",
       "11001                   54 N MAIN ST, BROCKTON, MA            DISTURBANCE   \n",
       "13273  75 MONTELLO ST @ 74 CENTRE ST, BROCKTON, MA     MOTOR VEHICLE STOP   \n",
       "12552                  680 CENTRE ST, BROCKTON, MA            DISTURBANCE   \n",
       "7320                 308 MONTELLO ST, BROCKTON, MA        Alarm Telephone   \n",
       "4744                 200 WESTGATE DR, BROCKTON, MA        Alarm Telephone   \n",
       "\n",
       "       Count  \n",
       "10132    257  \n",
       "763      191  \n",
       "12936    125  \n",
       "14704    118  \n",
       "12825     89  \n",
       "11001     80  \n",
       "13273     73  \n",
       "12552     66  \n",
       "7320      65  \n",
       "4744      62  "
      ]
     },
     "execution_count": 566,
     "metadata": {},
     "output_type": "execute_result"
    }
   ],
   "source": [
    "location_incident_df = calls.groupby('Address')['Reason'].apply(lambda x: x.value_counts().index[0]).reset_index()\n",
    "location_incident_df['Count'] = calls.groupby('Address')['Reason'].apply(lambda x: x.value_counts()[0]).values\n",
    "location_incident_df.sort_values(by='Count', ascending=False, inplace=True)\n",
    "location_incident_df.head(10)"
   ]
  },
  {
   "cell_type": "markdown",
   "metadata": {},
   "source": [
    "### Data Visualization "
   ]
  },
  {
   "cell_type": "code",
   "execution_count": 225,
   "metadata": {},
   "outputs": [],
   "source": [
    "import seaborn as sns\n",
    "sns.set_style('whitegrid')\n",
    "\n",
    "import matplotlib.pyplot as plt\n",
    "%matplotlib inline"
   ]
  },
  {
   "cell_type": "code",
   "execution_count": 226,
   "metadata": {},
   "outputs": [
    {
     "data": {
      "image/png": "[encoded data removed]",
      "text/plain": [
       "<Figure size 432x288 with 1 Axes>"
      ]
     },
     "metadata": {
      "needs_background": "light"
     },
     "output_type": "display_data"
    }
   ],
   "source": [
    "top_reasons_list = calls['Reason'].value_counts().head(5).index.tolist()\n",
    "top_reasons_df = calls[calls['Reason'].isin(top_reasons_list)]\n",
    "ax = sns.countplot(x='Reason',data=top_reasons_df,palette='viridis')\n",
    "ax.set_xticklabels(ax.get_xticklabels(), rotation=40, ha=\"right\")\n",
    "plt.tight_layout()"
   ]
  },
  {
   "cell_type": "code",
   "execution_count": 78,
   "metadata": {},
   "outputs": [
    {
     "data": {
      "text/plain": [
       "<matplotlib.legend.Legend at 0x7f98ba0fca90>"
      ]
     },
     "execution_count": 78,
     "metadata": {},
     "output_type": "execute_result"
    },
    {
     "data": {
      "image/png": "[encoded data removed]",
      "text/plain": [
       "<Figure size 432x288 with 1 Axes>"
      ]
     },
     "metadata": {
      "needs_background": "light"
     },
     "output_type": "display_data"
    }
   ],
   "source": [
    "sns.countplot(x='Day of Week',data=top_reasons_df,hue='Reason',palette='viridis')\n",
    "plt.legend(bbox_to_anchor=(1.05, 1), loc=2, borderaxespad=0.)"
   ]
  },
  {
   "cell_type": "code",
   "execution_count": 81,
   "metadata": {},
   "outputs": [
    {
     "data": {
      "text/plain": [
       "<matplotlib.legend.Legend at 0x7f98ba0fc150>"
      ]
     },
     "execution_count": 81,
     "metadata": {},
     "output_type": "execute_result"
    },
    {
     "data": {
      "image/png": "[encoded data removed]",
      "text/plain": [
       "<Figure size 432x288 with 1 Axes>"
      ]
     },
     "metadata": {
      "needs_background": "light"
     },
     "output_type": "display_data"
    }
   ],
   "source": [
    "sns.countplot(x='Month',data=top_reasons_df,hue='Reason',palette='viridis')\n",
    "plt.legend(bbox_to_anchor=(1.05, 1), loc=2, borderaxespad=0.)"
   ]
  },
  {
   "cell_type": "code",
   "execution_count": 85,
   "metadata": {},
   "outputs": [
    {
     "data": {
      "text/plain": [
       "<matplotlib.axes._subplots.AxesSubplot at 0x7f98bac7d190>"
      ]
     },
     "execution_count": 85,
     "metadata": {},
     "output_type": "execute_result"
    },
    {
     "data": {
      "image/png": "[encoded data removed]",
      "text/plain": [
       "<Figure size 864x432 with 2 Axes>"
      ]
     },
     "metadata": {
      "needs_background": "light"
     },
     "output_type": "display_data"
    }
   ],
   "source": [
    "dayHour = top_reasons_df.groupby(by=['Day of Week','Hour']).count()['Reason'].unstack()\n",
    "plt.figure(figsize=(12,6))\n",
    "sns.heatmap(dayHour,cmap='viridis')"
   ]
  },
  {
   "cell_type": "markdown",
   "metadata": {},
   "source": [
    "** Individual incident analysis **"
   ]
  },
  {
   "cell_type": "code",
   "execution_count": 237,
   "metadata": {},
   "outputs": [
    {
     "data": {
      "text/plain": [
       "Address\n",
       "54 N MAIN ST, BROCKTON, MA            20\n",
       "N MAIN ST, BROCKTON, MA               11\n",
       "30 N MAIN ST, BROCKTON, MA             4\n",
       "64 N MONTELLO ST, BROCKTON, MA         4\n",
       "10 COMMERCIAL ST, BROCKTON, MA         4\n",
       "63 MAIN ST, BROCKTON, MA               4\n",
       "113 GREEN ST Apt. #1, BROCKTON, MA     3\n",
       "65 WESTGATE DR, BROCKTON, MA           3\n",
       "83 SOUTHWORTH ST, BROCKTON, MA         3\n",
       "52 N MAIN ST, BROCKTON, MA             3\n",
       "dtype: int64"
      ]
     },
     "execution_count": 237,
     "metadata": {},
     "output_type": "execute_result"
    }
   ],
   "source": [
    "get_locations(calls, 'Overdose')"
   ]
  },
  {
   "cell_type": "code",
   "execution_count": 236,
   "metadata": {},
   "outputs": [
    {
     "data": {
      "text/plain": [
       "<matplotlib.axes._subplots.AxesSubplot at 0x7fa315127550>"
      ]
     },
     "execution_count": 236,
     "metadata": {},
     "output_type": "execute_result"
    },
    {
     "data": {
      "image/png": "[encoded data removed]",
      "text/plain": [
       "<Figure size 432x288 with 1 Axes>"
      ]
     },
     "metadata": {
      "needs_background": "light"
     },
     "output_type": "display_data"
    }
   ],
   "source": [
    "show_locations(calls, 'Overdose')"
   ]
  },
  {
   "cell_type": "code",
   "execution_count": 243,
   "metadata": {},
   "outputs": [
    {
     "data": {
      "image/png": "[encoded data removed]",
      "text/plain": [
       "<Figure size 432x288 with 1 Axes>"
      ]
     },
     "metadata": {
      "needs_background": "light"
     },
     "output_type": "display_data"
    }
   ],
   "source": [
    "show_monthly_occurrence(calls, 'Overdose')"
   ]
  },
  {
   "cell_type": "code",
   "execution_count": 241,
   "metadata": {},
   "outputs": [
    {
     "data": {
      "image/png": "[encoded data removed]",
      "text/plain": [
       "<Figure size 432x288 with 1 Axes>"
      ]
     },
     "metadata": {
      "needs_background": "light"
     },
     "output_type": "display_data"
    }
   ],
   "source": [
    "show_hourly_occurrence(calls, 'Overdose')"
   ]
  },
  {
   "cell_type": "code",
   "execution_count": 256,
   "metadata": {
    "scrolled": true
   },
   "outputs": [
    {
     "data": {
      "text/html": [
       "<div style=\"width:100%;\"><div style=\"position:relative;width:100%;height:0;padding-bottom:60%;\"><span style=\"color:#565656\">Make this Notebook Trusted to load map: File -> Trust Notebook</span><iframe src=\"about:blank\" style=\"position:absolute;width:100%;height:100%;left:0;top:0;border:none !important;\" data-html=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 onload=\"this.contentDocument.open();this.contentDocument.write(atob(this.getAttribute('data-html')));this.contentDocument.close();\" allowfullscreen webkitallowfullscreen mozallowfullscreen></iframe></div></div>"
      ],
      "text/plain": [
       "<folium.folium.Map at 0x7fa32e423f10>"
      ]
     },
     "execution_count": 256,
     "metadata": {},
     "output_type": "execute_result"
    }
   ],
   "source": [
    "map_df = calls[pd.notnull(calls['Latitude'])]\n",
    "display_heatmap_for_reason(map_df, 'Overdose')"
   ]
  },
  {
   "cell_type": "markdown",
   "metadata": {},
   "source": [
    "### Predicting Incidents with ML"
   ]
  },
  {
   "cell_type": "code",
   "execution_count": 524,
   "metadata": {},
   "outputs": [],
   "source": [
    "from sklearn.model_selection import train_test_split\n",
    "from sklearn import metrics\n",
    "from sklearn.metrics import classification_report,confusion_matrix"
   ]
  },
  {
   "cell_type": "code",
   "execution_count": 525,
   "metadata": {},
   "outputs": [],
   "source": [
    "incidents = calls[(calls.timeStamp.dt.year > 2018) & (calls.timeStamp.dt.month < 11)]\n",
    "incidents = incidents[['Day of Week', 'PostalCode', 'Hour']]\n",
    "incidents = incidents.dropna()\n",
    "\n",
    "drop_idx = incidents[(incidents['PostalCode'] == '17925') | (incidents['PostalCode'] == 'N0G 2V0')].index\n",
    "incidents = incidents.drop(drop_idx)\n",
    "\n",
    "incidents.loc[:, 'Incidents'] = 1\n",
    "incidents = incidents.groupby(['Day of Week', 'PostalCode', 'Hour']).sum().reset_index()\n",
    "incidents = incidents[['Incidents', 'Hour', 'Day of Week', 'PostalCode']]\n",
    "\n",
    "dayOfWeek = pd.get_dummies(incidents['Day of Week'], drop_first=True)\n",
    "postalCodes = pd.get_dummies(incidents['PostalCode'], drop_first=True)\n",
    "incidents.drop(['Day of Week', 'PostalCode'],axis=1,inplace=True)\n",
    "incidents = pd.concat([incidents,dayOfWeek, postalCodes],axis=1)\n",
    "\n",
    "X_train, X_test, y_train, y_test = train_test_split(incidents.drop('Incidents',axis=1), \n",
    "                                                    incidents['Incidents'], test_size=0.30)"
   ]
  },
  {
   "cell_type": "markdown",
   "metadata": {},
   "source": [
    "#### Linear Regression"
   ]
  },
  {
   "cell_type": "code",
   "execution_count": 526,
   "metadata": {},
   "outputs": [],
   "source": [
    "from sklearn.linear_model import LinearRegression"
   ]
  },
  {
   "cell_type": "code",
   "execution_count": 527,
   "metadata": {},
   "outputs": [
    {
     "data": {
      "text/plain": [
       "0.715627248365974"
      ]
     },
     "execution_count": 527,
     "metadata": {},
     "output_type": "execute_result"
    }
   ],
   "source": [
    "lm = LinearRegression()\n",
    "lm.fit(X_train, y_train)\n",
    "lm.score(X_test, y_test)"
   ]
  },
  {
   "cell_type": "code",
   "execution_count": 528,
   "metadata": {},
   "outputs": [
    {
     "data": {
      "text/plain": [
       "<matplotlib.collections.PathCollection at 0x7fa30f2f1310>"
      ]
     },
     "execution_count": 528,
     "metadata": {},
     "output_type": "execute_result"
    },
    {
     "data": {
      "image/png": "[encoded data removed]",
      "text/plain": [
       "<Figure size 432x288 with 1 Axes>"
      ]
     },
     "metadata": {
      "needs_background": "light"
     },
     "output_type": "display_data"
    }
   ],
   "source": [
    "predictions = lm.predict(X_test)\n",
    "plt.scatter(y_test,predictions)"
   ]
  },
  {
   "cell_type": "code",
   "execution_count": 529,
   "metadata": {},
   "outputs": [
    {
     "data": {
      "image/png": "[encoded data removed]",
      "text/plain": [
       "<Figure size 432x288 with 1 Axes>"
      ]
     },
     "metadata": {
      "needs_background": "light"
     },
     "output_type": "display_data"
    }
   ],
   "source": [
    "sns.distplot((y_test-predictions),bins=50);"
   ]
  },
  {
   "cell_type": "code",
   "execution_count": 530,
   "metadata": {},
   "outputs": [
    {
     "name": "stdout",
     "output_type": "stream",
     "text": [
      "MAE: 6.421650294144186\n",
      "MSE: 93.45435663784411\n",
      "RMSE: 9.667179352729736\n"
     ]
    }
   ],
   "source": [
    "print('MAE:', metrics.mean_absolute_error(y_test, predictions))\n",
    "print('MSE:', metrics.mean_squared_error(y_test, predictions))\n",
    "print('RMSE:', np.sqrt(metrics.mean_squared_error(y_test, predictions)))"
   ]
  },
  {
   "cell_type": "markdown",
   "metadata": {},
   "source": [
    "#### K Nearest Neighbors"
   ]
  },
  {
   "cell_type": "code",
   "execution_count": 531,
   "metadata": {},
   "outputs": [],
   "source": [
    "from sklearn.neighbors import KNeighborsRegressor"
   ]
  },
  {
   "cell_type": "code",
   "execution_count": 532,
   "metadata": {},
   "outputs": [
    {
     "data": {
      "text/plain": [
       "0.7201768264678252"
      ]
     },
     "execution_count": 532,
     "metadata": {},
     "output_type": "execute_result"
    }
   ],
   "source": [
    "knn = KNeighborsRegressor()\n",
    "knn.fit(X_train,y_train)\n",
    "knn.score(X_test, y_test)"
   ]
  },
  {
   "cell_type": "markdown",
   "metadata": {},
   "source": [
    "#### Random Forest"
   ]
  },
  {
   "cell_type": "code",
   "execution_count": 533,
   "metadata": {},
   "outputs": [],
   "source": [
    "from sklearn.ensemble import RandomForestRegressor"
   ]
  },
  {
   "cell_type": "code",
   "execution_count": 534,
   "metadata": {},
   "outputs": [
    {
     "data": {
      "text/plain": [
       "0.8935067851024338"
      ]
     },
     "execution_count": 534,
     "metadata": {},
     "output_type": "execute_result"
    }
   ],
   "source": [
    "rf = RandomForestRegressor()\n",
    "rf.fit(X_train, y_train)\n",
    "rf.score(X_test, y_test)"
   ]
  },
  {
   "cell_type": "code",
   "execution_count": 535,
   "metadata": {},
   "outputs": [
    {
     "data": {
      "text/plain": [
       "[('Incidents', 0.20678353776984643),\n",
       " ('Hour', 0.006568771027410552),\n",
       " ('Mon', 0.013884324299637051),\n",
       " ('Sat', 0.019020315699777402),\n",
       " ('Sun', 0.006889758028161929),\n",
       " ('Thu', 0.006779076739315023),\n",
       " ('Tue', 0.007750403547422474),\n",
       " ('Wed', 0.342784491315978),\n",
       " ('02301', 0.016005542212887896),\n",
       " ('02302', 0.3425623044627248),\n",
       " ('02303', 9.366459451956136e-05),\n",
       " ('02322', 0.0),\n",
       " ('02343', 2.5394633651534707e-05),\n",
       " ('02356', 0.0014547323027991883),\n",
       " ('02357', 0.0024392647555568515),\n",
       " ('02379', 0.014845317939830668),\n",
       " ('02401', 0.0012957570136773084),\n",
       " ('02402', 0.010817343656803315)]"
      ]
     },
     "execution_count": 535,
     "metadata": {},
     "output_type": "execute_result"
    }
   ],
   "source": [
    "list(zip(incidents.columns, rf.feature_importances_))"
   ]
  },
  {
   "cell_type": "markdown",
   "metadata": {},
   "source": [
    "#### SVM"
   ]
  },
  {
   "cell_type": "code",
   "execution_count": 537,
   "metadata": {},
   "outputs": [],
   "source": [
    "from sklearn.svm import SVR"
   ]
  },
  {
   "cell_type": "code",
   "execution_count": 544,
   "metadata": {},
   "outputs": [
    {
     "data": {
      "text/plain": [
       "-0.02354919471477368"
      ]
     },
     "execution_count": 544,
     "metadata": {},
     "output_type": "execute_result"
    }
   ],
   "source": [
    "svm = SVR()\n",
    "svm.fit(X_train, y_train)\n",
    "svm.score(X_test, y_test)"
   ]
  }
 ],
 "metadata": {
  "kernelspec": {
   "display_name": "Python 3",
   "language": "python",
   "name": "python3"
  },
  "language_info": {
   "codemirror_mode": {
    "name": "ipython",
    "version": 3
   },
   "file_extension": ".py",
   "mimetype": "text/x-python",
   "name": "python",
   "nbconvert_exporter": "python",
   "pygments_lexer": "ipython3",
   "version": "3.7.6"
  }
 },
 "nbformat": 4,
 "nbformat_minor": 4
}
