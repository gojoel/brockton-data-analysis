{
 "cells": [
  {
   "cell_type": "markdown",
   "metadata": {},
   "source": [
    "## Analyzing Police Logs - City of Brockton, MA\n"
   ]
  },
  {
   "cell_type": "code",
   "execution_count": 1,
   "metadata": {},
   "outputs": [],
   "source": [
    "import pandas as pd\n",
    "import numpy as np\n",
    "import tabula\n",
    "import re\n",
    "\n",
    "import requests\n",
    "from bs4 import BeautifulSoup\n",
    "from urllib.parse import urljoin\n",
    "\n",
    "import os\n",
    "from os import listdir\n",
    "from os.path import isfile, join"
   ]
  },
  {
   "cell_type": "markdown",
   "metadata": {},
   "source": [
    "** Gather Data **"
   ]
  },
  {
   "cell_type": "code",
   "execution_count": 2,
   "metadata": {},
   "outputs": [],
   "source": [
    "def fetch_logs(month, year, dir='logs'):\n",
    "    url = \"http://www.brocktonpolice.com/wp-content/uploads/{}/{}/\".format(year, month)    \n",
    "    folder_location = r'{}/{}'.format(dir, year)\n",
    "    if not os.path.exists(folder_location):os.mkdir(folder_location)\n",
    "    \n",
    "    response = requests.get(url)\n",
    "    soup = BeautifulSoup(response.text, \"html.parser\")     \n",
    "    for link in soup.select(\"a[href$='.pdf']\"):\n",
    "        # Name the pdf files using the last portion of each link which are unique in this case\n",
    "        filename = os.path.join(folder_location,link['href'].split('/')[-1])\n",
    "        print('Downloading {}...'.format(filename)) # TODO: remove, testing purpose\n",
    "        with open(filename, 'wb') as f:\n",
    "            f.write(requests.get(urljoin(url,link['href'])).content)\n",
    "\n",
    "def parse_files(path):\n",
    "    files = [f for f in listdir(path) if isfile(join(path, f))]\n",
    "    calls = pd.DataFrame(columns=call_columns)\n",
    "    \n",
    "    for i in range(len(files)):\n",
    "        file = files[i]\n",
    "        if not is_valid_file(file):\n",
    "            continue\n",
    "        date = file.split(\".\")[0]\n",
    "        print(\"Parsing: {}... {}/{}\".format(path + file, i, len(files))) # TODO: remove, testing purpose\n",
    "        pages = tabula.read_pdf(path + file, pages='all')\n",
    "        file_calls = parsePages(pages)\n",
    "        file_calls['Date'] = date\n",
    "        calls = calls.append([file_calls], ignore_index = True) \n",
    "    \n",
    "    return calls"
   ]
  },
  {
   "cell_type": "markdown",
   "metadata": {},
   "source": [
    "** Utils **"
   ]
  },
  {
   "cell_type": "code",
   "execution_count": 3,
   "metadata": {},
   "outputs": [],
   "source": [
    "def get_call_types(path):\n",
    "    with open(path) as f:\n",
    "        return f.read().splitlines()\n",
    "    \n",
    "def is_valid_file(filename):\n",
    "    pattern = re.compile(\"^(\\d{8}.pdf)$\")\n",
    "    return bool(pattern.match(filename))\n",
    "    \n",
    "def get_call_number(str):\n",
    "    return str[:-4]\n",
    "\n",
    "def get_call_time(str):\n",
    "    return str[-4:]\n",
    "\n",
    "def is_new_call(str):\n",
    "    pattern = re.compile(\"^(\\d\\d-[\\d]+)$\")\n",
    "    return bool(pattern.match(str))\n",
    "\n",
    "def get_reason_action(text):\n",
    "    for type in call_types:\n",
    "        updated_type = type.strip().lower()\n",
    "        res = re.search(r'\\b({})\\b'.format(updated_type), text.lower())\n",
    "        if res != None:\n",
    "            action = text[len(updated_type):]\n",
    "            return (type, action.strip())\n",
    "    return None  \n",
    "\n",
    "def get_hour(dateTime):\n",
    "    return dateTime.hour\n",
    "\n",
    "def get_month(dateTime):\n",
    "    return dateTime.month\n",
    "\n",
    "def get_dayOfWeek(dateTime):\n",
    "    return dateTime.weekday()"
   ]
  },
  {
   "cell_type": "markdown",
   "metadata": {},
   "source": [
    "** Parsing **"
   ]
  },
  {
   "cell_type": "code",
   "execution_count": 4,
   "metadata": {},
   "outputs": [],
   "source": [
    "def parsePages(pages):\n",
    "    page_columns = ['Column', 'Value', 'Action']\n",
    "    short_page_columns = ['Column', 'Value/Action']\n",
    "    calls = pd.DataFrame(columns=call_columns)\n",
    "    \n",
    "    for i in range(len(pages)):\n",
    "        page = pages[i]\n",
    "        last_call = None\n",
    "        is_short_page = False\n",
    "        \n",
    "        if 'Unnamed: 0' in page:\n",
    "            page.drop('Unnamed: 0', axis=1, inplace=True) # provides no data\n",
    "\n",
    "        if len(page.columns) < 2 or len(page.columns) > 3:\n",
    "            continue\n",
    "            \n",
    "        if len(page.columns) == 2:\n",
    "            is_short_page = True\n",
    "            \n",
    "        columns = short_page_columns if is_short_page else page_columns    \n",
    "\n",
    "        # save current columns\n",
    "        prev_columns = page.columns.tolist()\n",
    "        page.columns = columns\n",
    "\n",
    "        # append original columns as an entry \n",
    "        df_prev_columns = pd.DataFrame([prev_columns], columns=columns)\n",
    "        updated_page = page.append(df_prev_columns, ignore_index=True)\n",
    "        updated_page.fillna(\"None\", inplace=True)\n",
    "\n",
    "        entry_values = None\n",
    "\n",
    "        for index, row in updated_page.iterrows():\n",
    "            column_name = str(row[columns[0]])\n",
    "            column_value = row[columns[1]]\n",
    "\n",
    "            if is_new_call(column_name):\n",
    "                if index > 0 and entry_values != None:\n",
    "                    # add previous call as entry before we parse new call\n",
    "                    call = pd.DataFrame([entry_values.values()], columns=call_columns)\n",
    "                    calls = calls.append([call], ignore_index = True) \n",
    "                    last_call = call\n",
    "\n",
    "                entry_values = {column: None for column in call_columns}\n",
    "                entry_values['Call Number'] = get_call_number(column_name)\n",
    "                entry_values['Call Time'] = get_call_time(column_name)\n",
    "                \n",
    "                if is_short_page:\n",
    "                    # reason and action values combined in short pages\n",
    "                    reason_action = get_reason_action(column_value)\n",
    "                    \n",
    "                    if reason_action != None:\n",
    "                        entry_values['Reason'], entry_values['Action'] = reason_action\n",
    "                    else:    \n",
    "                        # unable to split reason and action\n",
    "                        entry_values['Reason'] = column_value\n",
    "                        entry_values['Action'] = column_value\n",
    "                else:\n",
    "                    action = row[columns[2]]\n",
    "                    entry_values['Reason'] = column_value\n",
    "                    entry_values['Action'] = action\n",
    "                    \n",
    "                entry_values['Page'] = i\n",
    "            else:\n",
    "                # TODO: find better approach to parsing pages where first row isn't call number    \n",
    "                if entry_values == None or entry_values['Call Number'] == None:\n",
    "                    continue\n",
    "                    \n",
    "                filter_column_name = column_name.replace(\":\", \"\")\n",
    "                if filter_column_name in entry_values:\n",
    "                    entry_values[filter_column_name] = column_value\n",
    "    return calls               "
   ]
  },
  {
   "cell_type": "code",
   "execution_count": 5,
   "metadata": {},
   "outputs": [],
   "source": [
    "call_types = get_call_types('call_types')\n",
    "call_columns = ['Call Number', 'Call Time', 'Call Taker', 'Reason', 'Action', 'ID', 'Location/Address', 'Page', 'Date']\n",
    "weekday_map = {0:'Mon', 1:'Tue', 2:'Wed', 3:'Thu', 4:'Fri', 5:'Sat', 6:'Sun'}"
   ]
  },
  {
   "cell_type": "markdown",
   "metadata": {},
   "source": [
    "### Exploratory Data Analysis"
   ]
  },
  {
   "cell_type": "code",
   "execution_count": 6,
   "metadata": {},
   "outputs": [],
   "source": [
    "# fetch_logs('05', '2020')\n",
    "# calls = parse_files('logs/2020/')\n",
    "\n",
    "# read data from cache\n",
    "calls = pd.read_pickle('cached_calls.pkl')"
   ]
  },
  {
   "cell_type": "code",
   "execution_count": 7,
   "metadata": {},
   "outputs": [
    {
     "name": "stdout",
     "output_type": "stream",
     "text": [
      "<class 'pandas.core.frame.DataFrame'>\n",
      "RangeIndex: 7104 entries, 0 to 7103\n",
      "Data columns (total 13 columns):\n",
      " #   Column            Non-Null Count  Dtype         \n",
      "---  ------            --------------  -----         \n",
      " 0   Call Number       7104 non-null   object        \n",
      " 1   Call Time         7104 non-null   object        \n",
      " 2   Call Taker        6252 non-null   object        \n",
      " 3   Reason            7104 non-null   object        \n",
      " 4   Action            7104 non-null   object        \n",
      " 5   ID                4361 non-null   object        \n",
      " 6   Location/Address  4694 non-null   object        \n",
      " 7   Page              7104 non-null   object        \n",
      " 8   Date              7104 non-null   object        \n",
      " 9   timeStamp         7104 non-null   datetime64[ns]\n",
      " 10  Hour              7104 non-null   int64         \n",
      " 11  Month             7104 non-null   int64         \n",
      " 12  Day of Week       7104 non-null   object        \n",
      "dtypes: datetime64[ns](1), int64(2), object(10)\n",
      "memory usage: 721.6+ KB\n"
     ]
    }
   ],
   "source": [
    "calls.info()"
   ]
  },
  {
   "cell_type": "code",
   "execution_count": 41,
   "metadata": {},
   "outputs": [],
   "source": [
    "calls['timeStamp'] = pd.to_datetime(calls['Date'] + ' ' + calls['Call Time'])\n",
    "calls['Hour'] = calls['timeStamp'].apply(lambda time: time.hour)\n",
    "calls['Month'] = calls['timeStamp'].apply(lambda time: time.month)\n",
    "calls['Day of Week'] = calls['timeStamp'].apply(lambda time: time.dayofweek)\n",
    "calls['Day of Week'] = calls['Day of Week'].map(weekday_map)"
   ]
  },
  {
   "cell_type": "markdown",
   "metadata": {},
   "source": [
    "** Top 5 officers reporting to incidents ** "
   ]
  },
  {
   "cell_type": "code",
   "execution_count": 43,
   "metadata": {},
   "outputs": [
    {
     "data": {
      "text/plain": [
       "Patrolman Richard J Gaucher      188\n",
       "Patrolman Alexander C Burrell     84\n",
       "Patrolman David F Santos          81\n",
       "Patrolman Callie H Royster Jr     75\n",
       "Patrolman Michael j Micciche      70\n",
       "Name: ID, dtype: int64"
      ]
     },
     "execution_count": 43,
     "metadata": {},
     "output_type": "execute_result"
    }
   ],
   "source": [
    "calls['ID'].value_counts().head(5)"
   ]
  },
  {
   "cell_type": "markdown",
   "metadata": {},
   "source": [
    "** Top 5 incident locations/address **"
   ]
  },
  {
   "cell_type": "code",
   "execution_count": 45,
   "metadata": {},
   "outputs": [
    {
     "data": {
      "text/plain": [
       "[BRO 7484] 917 MONTELLO ST    37\n",
       "[BRO 31] 470 FOREST AVE       37\n",
       "[BRO 5328] 715 BELMONT ST     23\n",
       "[BRO 45] 7 COMMERCIAL ST      21\n",
       "105 BELAIR ST                 20\n",
       "Name: Location/Address, dtype: int64"
      ]
     },
     "execution_count": 45,
     "metadata": {},
     "output_type": "execute_result"
    }
   ],
   "source": [
    "top_locations = calls['Location/Address'].value_counts().head(5)\n",
    "top_locations_list = top_locations.index.tolist()\n",
    "top_locations"
   ]
  },
  {
   "cell_type": "markdown",
   "metadata": {},
   "source": [
    "** Most common actions **"
   ]
  },
  {
   "cell_type": "code",
   "execution_count": 46,
   "metadata": {},
   "outputs": [
    {
     "data": {
      "text/plain": [
       "Taken/Referred to Other Agency    1113\n",
       "Matter Settled                    1108\n",
       "False 911 Call                     569\n",
       "FALSE ALARM                        479\n",
       "Report taken                       429\n",
       "Name: Action, dtype: int64"
      ]
     },
     "execution_count": 46,
     "metadata": {},
     "output_type": "execute_result"
    }
   ],
   "source": [
    "top_actions = calls['Action'].value_counts().head(5)\n",
    "top_actions"
   ]
  },
  {
   "cell_type": "markdown",
   "metadata": {},
   "source": [
    "** Most common incidents **"
   ]
  },
  {
   "cell_type": "code",
   "execution_count": 47,
   "metadata": {},
   "outputs": [
    {
     "data": {
      "text/plain": [
       "911 Transfer to Ambulance    1193\n",
       "DISTURBANCE                   730\n",
       "911 Verify Call               660\n",
       "MOTOR VEHICLE STOP            634\n",
       "Alarm Telephone               523\n",
       "Name: Reason, dtype: int64"
      ]
     },
     "execution_count": 47,
     "metadata": {},
     "output_type": "execute_result"
    }
   ],
   "source": [
    "top_reasons = calls['Reason'].value_counts().head(5)\n",
    "top_reasons_list = top_reasons.index.tolist()\n",
    "top_reasons"
   ]
  },
  {
   "cell_type": "markdown",
   "metadata": {},
   "source": [
    "** Most common action taken per incident type ** "
   ]
  },
  {
   "cell_type": "code",
   "execution_count": 48,
   "metadata": {},
   "outputs": [
    {
     "data": {
      "text/html": [
       "<div>\n",
       "<style scoped>\n",
       "    .dataframe tbody tr th:only-of-type {\n",
       "        vertical-align: middle;\n",
       "    }\n",
       "\n",
       "    .dataframe tbody tr th {\n",
       "        vertical-align: top;\n",
       "    }\n",
       "\n",
       "    .dataframe thead th {\n",
       "        text-align: right;\n",
       "    }\n",
       "</style>\n",
       "<table border=\"1\" class=\"dataframe\">\n",
       "  <thead>\n",
       "    <tr style=\"text-align: right;\">\n",
       "      <th></th>\n",
       "      <th>Reason</th>\n",
       "      <th>Action</th>\n",
       "    </tr>\n",
       "  </thead>\n",
       "  <tbody>\n",
       "    <tr>\n",
       "      <th>0</th>\n",
       "      <td>911 False Call Cancelled</td>\n",
       "      <td>911 False Call Cancelled</td>\n",
       "    </tr>\n",
       "    <tr>\n",
       "      <th>1</th>\n",
       "      <td>911 False Call False 911 Call</td>\n",
       "      <td>911 False Call False 911 Call</td>\n",
       "    </tr>\n",
       "    <tr>\n",
       "      <th>2</th>\n",
       "      <td>911 False Call Investigated</td>\n",
       "      <td>911 False Call Investigated</td>\n",
       "    </tr>\n",
       "    <tr>\n",
       "      <th>3</th>\n",
       "      <td>911 Hang Up</td>\n",
       "      <td>False 911 Call</td>\n",
       "    </tr>\n",
       "    <tr>\n",
       "      <th>4</th>\n",
       "      <td>911 Transfer Out of Town</td>\n",
       "      <td>Taken/Referred to Other Agency</td>\n",
       "    </tr>\n",
       "    <tr>\n",
       "      <th>...</th>\n",
       "      <td>...</td>\n",
       "      <td>...</td>\n",
       "    </tr>\n",
       "    <tr>\n",
       "      <th>124</th>\n",
       "      <td>Unknown Emergency</td>\n",
       "      <td>Matter Settled</td>\n",
       "    </tr>\n",
       "    <tr>\n",
       "      <th>125</th>\n",
       "      <td>Unwanted Guest Disturbance</td>\n",
       "      <td>Matter Settled</td>\n",
       "    </tr>\n",
       "    <tr>\n",
       "      <th>126</th>\n",
       "      <td>Unwanted Guest Drunk</td>\n",
       "      <td>Matter Settled</td>\n",
       "    </tr>\n",
       "    <tr>\n",
       "      <th>127</th>\n",
       "      <td>Unwanted Guest Family</td>\n",
       "      <td>Report taken</td>\n",
       "    </tr>\n",
       "    <tr>\n",
       "      <th>128</th>\n",
       "      <td>Vehicle Fire</td>\n",
       "      <td>Report taken</td>\n",
       "    </tr>\n",
       "  </tbody>\n",
       "</table>\n",
       "<p>129 rows × 2 columns</p>\n",
       "</div>"
      ],
      "text/plain": [
       "                            Reason                          Action\n",
       "0         911 False Call Cancelled        911 False Call Cancelled\n",
       "1    911 False Call False 911 Call   911 False Call False 911 Call\n",
       "2      911 False Call Investigated     911 False Call Investigated\n",
       "3                      911 Hang Up                  False 911 Call\n",
       "4         911 Transfer Out of Town  Taken/Referred to Other Agency\n",
       "..                             ...                             ...\n",
       "124              Unknown Emergency                  Matter Settled\n",
       "125     Unwanted Guest Disturbance                  Matter Settled\n",
       "126           Unwanted Guest Drunk                  Matter Settled\n",
       "127          Unwanted Guest Family                    Report taken\n",
       "128                   Vehicle Fire                    Report taken\n",
       "\n",
       "[129 rows x 2 columns]"
      ]
     },
     "execution_count": 48,
     "metadata": {},
     "output_type": "execute_result"
    }
   ],
   "source": [
    "resolve_df = calls.groupby('Reason')['Action'].apply(lambda x: x.value_counts().index[0]).reset_index()\n",
    "resolve_df"
   ]
  },
  {
   "cell_type": "markdown",
   "metadata": {},
   "source": [
    "** Most common incident by location/address **"
   ]
  },
  {
   "cell_type": "code",
   "execution_count": 86,
   "metadata": {},
   "outputs": [
    {
     "data": {
      "text/html": [
       "<div>\n",
       "<style scoped>\n",
       "    .dataframe tbody tr th:only-of-type {\n",
       "        vertical-align: middle;\n",
       "    }\n",
       "\n",
       "    .dataframe tbody tr th {\n",
       "        vertical-align: top;\n",
       "    }\n",
       "\n",
       "    .dataframe thead th {\n",
       "        text-align: right;\n",
       "    }\n",
       "</style>\n",
       "<table border=\"1\" class=\"dataframe\">\n",
       "  <thead>\n",
       "    <tr style=\"text-align: right;\">\n",
       "      <th></th>\n",
       "      <th>Location/Address</th>\n",
       "      <th>Reason</th>\n",
       "      <th>Count</th>\n",
       "    </tr>\n",
       "  </thead>\n",
       "  <tbody>\n",
       "    <tr>\n",
       "      <th>2888</th>\n",
       "      <td>[BRO 7484] 917 MONTELLO ST</td>\n",
       "      <td>MISSING PERSON</td>\n",
       "      <td>28</td>\n",
       "    </tr>\n",
       "    <tr>\n",
       "      <th>2352</th>\n",
       "      <td>[BRO 31] 470 FOREST AVE</td>\n",
       "      <td>TRAFFIC CONTROL</td>\n",
       "      <td>22</td>\n",
       "    </tr>\n",
       "    <tr>\n",
       "      <th>102</th>\n",
       "      <td>105 BELAIR ST</td>\n",
       "      <td>Community Police Call</td>\n",
       "      <td>20</td>\n",
       "    </tr>\n",
       "    <tr>\n",
       "      <th>2561</th>\n",
       "      <td>[BRO 5328] 715 BELMONT ST</td>\n",
       "      <td>TRAFFIC CONTROL</td>\n",
       "      <td>19</td>\n",
       "    </tr>\n",
       "    <tr>\n",
       "      <th>2150</th>\n",
       "      <td>[BRO 1910] 53 PLYMOUTH ST</td>\n",
       "      <td>Community Police Call</td>\n",
       "      <td>12</td>\n",
       "    </tr>\n",
       "    <tr>\n",
       "      <th>490</th>\n",
       "      <td>198 CENTRE ST @ 99 PLYMOUTH ST</td>\n",
       "      <td>MOTOR VEHICLE STOP</td>\n",
       "      <td>9</td>\n",
       "    </tr>\n",
       "    <tr>\n",
       "      <th>1352</th>\n",
       "      <td>700 BELMONT ST</td>\n",
       "      <td>Alarm Telephone</td>\n",
       "      <td>9</td>\n",
       "    </tr>\n",
       "    <tr>\n",
       "      <th>1232</th>\n",
       "      <td>61 BRADLEY AVE</td>\n",
       "      <td>DISTURBANCE</td>\n",
       "      <td>8</td>\n",
       "    </tr>\n",
       "    <tr>\n",
       "      <th>281</th>\n",
       "      <td>1380 MAIN ST</td>\n",
       "      <td>Community Police Call</td>\n",
       "      <td>8</td>\n",
       "    </tr>\n",
       "    <tr>\n",
       "      <th>2110</th>\n",
       "      <td>[BRO 1652] 54 N MAIN ST</td>\n",
       "      <td>DISTURBANCE</td>\n",
       "      <td>8</td>\n",
       "    </tr>\n",
       "    <tr>\n",
       "      <th>1002</th>\n",
       "      <td>45 GODDARD RD</td>\n",
       "      <td>Community Police Call</td>\n",
       "      <td>7</td>\n",
       "    </tr>\n",
       "    <tr>\n",
       "      <th>2174</th>\n",
       "      <td>[BRO 2046] 140 COLONEL BELL DR</td>\n",
       "      <td>Community Police Call</td>\n",
       "      <td>7</td>\n",
       "    </tr>\n",
       "    <tr>\n",
       "      <th>2570</th>\n",
       "      <td>[BRO 538] 235 N PEARL ST</td>\n",
       "      <td>911 Verify Call</td>\n",
       "      <td>7</td>\n",
       "    </tr>\n",
       "    <tr>\n",
       "      <th>1871</th>\n",
       "      <td>[BRO 11443] 470 FOREST AVE</td>\n",
       "      <td>MOTOR VEHICLE STOP</td>\n",
       "      <td>6</td>\n",
       "    </tr>\n",
       "    <tr>\n",
       "      <th>2672</th>\n",
       "      <td>[BRO 6141] 1300 BELMONT ST Apt. #101</td>\n",
       "      <td>Alarm Telephone</td>\n",
       "      <td>6</td>\n",
       "    </tr>\n",
       "    <tr>\n",
       "      <th>2787</th>\n",
       "      <td>[BRO 7052] 105 BELAIR ST</td>\n",
       "      <td>Community Police Call</td>\n",
       "      <td>6</td>\n",
       "    </tr>\n",
       "    <tr>\n",
       "      <th>1774</th>\n",
       "      <td>[BRO 1071] 135 JON DR</td>\n",
       "      <td>Alarm Telephone</td>\n",
       "      <td>6</td>\n",
       "    </tr>\n",
       "    <tr>\n",
       "      <th>2092</th>\n",
       "      <td>[BRO 1532] 1012 MAIN ST</td>\n",
       "      <td>Alarm Telephone</td>\n",
       "      <td>6</td>\n",
       "    </tr>\n",
       "    <tr>\n",
       "      <th>2511</th>\n",
       "      <td>[BRO 475] 680 CENTRE ST</td>\n",
       "      <td>DISTURBANCE</td>\n",
       "      <td>6</td>\n",
       "    </tr>\n",
       "    <tr>\n",
       "      <th>2718</th>\n",
       "      <td>[BRO 6527] 62 MAIN ST</td>\n",
       "      <td>Alarm Telephone</td>\n",
       "      <td>6</td>\n",
       "    </tr>\n",
       "  </tbody>\n",
       "</table>\n",
       "</div>"
      ],
      "text/plain": [
       "                          Location/Address                 Reason  Count\n",
       "2888            [BRO 7484] 917 MONTELLO ST         MISSING PERSON     28\n",
       "2352               [BRO 31] 470 FOREST AVE        TRAFFIC CONTROL     22\n",
       "102                          105 BELAIR ST  Community Police Call     20\n",
       "2561             [BRO 5328] 715 BELMONT ST        TRAFFIC CONTROL     19\n",
       "2150             [BRO 1910] 53 PLYMOUTH ST  Community Police Call     12\n",
       "490         198 CENTRE ST @ 99 PLYMOUTH ST     MOTOR VEHICLE STOP      9\n",
       "1352                        700 BELMONT ST        Alarm Telephone      9\n",
       "1232                        61 BRADLEY AVE            DISTURBANCE      8\n",
       "281                           1380 MAIN ST  Community Police Call      8\n",
       "2110               [BRO 1652] 54 N MAIN ST            DISTURBANCE      8\n",
       "1002                         45 GODDARD RD  Community Police Call      7\n",
       "2174        [BRO 2046] 140 COLONEL BELL DR  Community Police Call      7\n",
       "2570              [BRO 538] 235 N PEARL ST        911 Verify Call      7\n",
       "1871            [BRO 11443] 470 FOREST AVE     MOTOR VEHICLE STOP      6\n",
       "2672  [BRO 6141] 1300 BELMONT ST Apt. #101        Alarm Telephone      6\n",
       "2787              [BRO 7052] 105 BELAIR ST  Community Police Call      6\n",
       "1774                 [BRO 1071] 135 JON DR        Alarm Telephone      6\n",
       "2092               [BRO 1532] 1012 MAIN ST        Alarm Telephone      6\n",
       "2511               [BRO 475] 680 CENTRE ST            DISTURBANCE      6\n",
       "2718                 [BRO 6527] 62 MAIN ST        Alarm Telephone      6"
      ]
     },
     "execution_count": 86,
     "metadata": {},
     "output_type": "execute_result"
    }
   ],
   "source": [
    "location_incident_df = calls.groupby('Location/Address')['Reason'].apply(lambda x: x.value_counts().index[0]).reset_index()\n",
    "location_incident_df['Count'] = calls.groupby('Location/Address')['Reason'].apply(lambda x: x.value_counts()[0]).values\n",
    "location_incident_df.sort_values(by='Count', ascending=False, inplace=True)\n",
    "location_incident_df.head(20)"
   ]
  },
  {
   "cell_type": "code",
   "execution_count": 50,
   "metadata": {},
   "outputs": [
    {
     "data": {
      "text/html": [
       "<div>\n",
       "<style scoped>\n",
       "    .dataframe tbody tr th:only-of-type {\n",
       "        vertical-align: middle;\n",
       "    }\n",
       "\n",
       "    .dataframe tbody tr th {\n",
       "        vertical-align: top;\n",
       "    }\n",
       "\n",
       "    .dataframe thead th {\n",
       "        text-align: right;\n",
       "    }\n",
       "</style>\n",
       "<table border=\"1\" class=\"dataframe\">\n",
       "  <thead>\n",
       "    <tr style=\"text-align: right;\">\n",
       "      <th></th>\n",
       "      <th>Location/Address</th>\n",
       "      <th>Reason</th>\n",
       "    </tr>\n",
       "  </thead>\n",
       "  <tbody>\n",
       "    <tr>\n",
       "      <th>0</th>\n",
       "      <td>105 BELAIR ST</td>\n",
       "      <td>Community Police Call</td>\n",
       "    </tr>\n",
       "    <tr>\n",
       "      <th>1</th>\n",
       "      <td>[BRO 31] 470 FOREST AVE</td>\n",
       "      <td>TRAFFIC CONTROL</td>\n",
       "    </tr>\n",
       "    <tr>\n",
       "      <th>2</th>\n",
       "      <td>[BRO 45] 7 COMMERCIAL ST</td>\n",
       "      <td>See the Complainant</td>\n",
       "    </tr>\n",
       "    <tr>\n",
       "      <th>3</th>\n",
       "      <td>[BRO 5328] 715 BELMONT ST</td>\n",
       "      <td>TRAFFIC CONTROL</td>\n",
       "    </tr>\n",
       "    <tr>\n",
       "      <th>4</th>\n",
       "      <td>[BRO 7484] 917 MONTELLO ST</td>\n",
       "      <td>MISSING PERSON</td>\n",
       "    </tr>\n",
       "  </tbody>\n",
       "</table>\n",
       "</div>"
      ],
      "text/plain": [
       "             Location/Address                 Reason\n",
       "0               105 BELAIR ST  Community Police Call\n",
       "1     [BRO 31] 470 FOREST AVE        TRAFFIC CONTROL\n",
       "2    [BRO 45] 7 COMMERCIAL ST    See the Complainant\n",
       "3   [BRO 5328] 715 BELMONT ST        TRAFFIC CONTROL\n",
       "4  [BRO 7484] 917 MONTELLO ST         MISSING PERSON"
      ]
     },
     "execution_count": 50,
     "metadata": {},
     "output_type": "execute_result"
    }
   ],
   "source": [
    "# most common incident for the top location with most incidents\n",
    "top_locations_df = calls[calls['Location/Address'].isin(top_locations_list)]\n",
    "top_locations_incidents = top_locations_df.groupby('Location/Address')['Reason'].apply(lambda x: x.value_counts().index[0]).reset_index()\n",
    "top_locations_incidents"
   ]
  },
  {
   "cell_type": "markdown",
   "metadata": {},
   "source": [
    "### Data Visualization "
   ]
  },
  {
   "cell_type": "code",
   "execution_count": 51,
   "metadata": {},
   "outputs": [],
   "source": [
    "import seaborn as sns\n",
    "sns.set_style('whitegrid')\n",
    "\n",
    "import matplotlib.pyplot as plt\n",
    "%matplotlib inline"
   ]
  },
  {
   "cell_type": "code",
   "execution_count": 52,
   "metadata": {},
   "outputs": [
    {
     "data": {
      "image/png": "[encoded data removed]",
      "text/plain": [
       "<Figure size 432x288 with 1 Axes>"
      ]
     },
     "metadata": {
      "needs_background": "light"
     },
     "output_type": "display_data"
    }
   ],
   "source": [
    "top_reasons_df = calls[calls['Reason'].isin(top_reasons_list)]\n",
    "ax = sns.countplot(x='Reason',data=top_reasons_df,palette='viridis')\n",
    "ax.set_xticklabels(ax.get_xticklabels(), rotation=40, ha=\"right\")\n",
    "plt.tight_layout()"
   ]
  },
  {
   "cell_type": "code",
   "execution_count": 53,
   "metadata": {},
   "outputs": [
    {
     "data": {
      "text/plain": [
       "<matplotlib.legend.Legend at 0x7f9a7d8dd450>"
      ]
     },
     "execution_count": 53,
     "metadata": {},
     "output_type": "execute_result"
    },
    {
     "data": {
      "image/png": "[encoded data removed]",
      "text/plain": [
       "<Figure size 432x288 with 1 Axes>"
      ]
     },
     "metadata": {
      "needs_background": "light"
     },
     "output_type": "display_data"
    }
   ],
   "source": [
    "sns.countplot(x='Day of Week',data=top_reasons_df,hue='Reason',palette='viridis')\n",
    "plt.legend(bbox_to_anchor=(1.05, 1), loc=2, borderaxespad=0.)"
   ]
  },
  {
   "cell_type": "code",
   "execution_count": 54,
   "metadata": {},
   "outputs": [
    {
     "data": {
      "text/plain": [
       "<matplotlib.legend.Legend at 0x7f9a7dcdc410>"
      ]
     },
     "execution_count": 54,
     "metadata": {},
     "output_type": "execute_result"
    },
    {
     "data": {
      "image/png": "[encoded data removed]",
      "text/plain": [
       "<Figure size 432x288 with 1 Axes>"
      ]
     },
     "metadata": {
      "needs_background": "light"
     },
     "output_type": "display_data"
    }
   ],
   "source": [
    "sns.countplot(x='Month',data=top_reasons_df,hue='Reason',palette='viridis')\n",
    "plt.legend(bbox_to_anchor=(1.05, 1), loc=2, borderaxespad=0.)\n",
    "# TODO: parse all months of year"
   ]
  },
  {
   "cell_type": "code",
   "execution_count": 55,
   "metadata": {},
   "outputs": [
    {
     "data": {
      "text/html": [
       "<div>\n",
       "<style scoped>\n",
       "    .dataframe tbody tr th:only-of-type {\n",
       "        vertical-align: middle;\n",
       "    }\n",
       "\n",
       "    .dataframe tbody tr th {\n",
       "        vertical-align: top;\n",
       "    }\n",
       "\n",
       "    .dataframe thead th {\n",
       "        text-align: right;\n",
       "    }\n",
       "</style>\n",
       "<table border=\"1\" class=\"dataframe\">\n",
       "  <thead>\n",
       "    <tr style=\"text-align: right;\">\n",
       "      <th>Hour</th>\n",
       "      <th>0</th>\n",
       "      <th>1</th>\n",
       "      <th>2</th>\n",
       "      <th>3</th>\n",
       "      <th>4</th>\n",
       "      <th>5</th>\n",
       "      <th>6</th>\n",
       "      <th>7</th>\n",
       "      <th>8</th>\n",
       "      <th>9</th>\n",
       "      <th>...</th>\n",
       "      <th>14</th>\n",
       "      <th>15</th>\n",
       "      <th>16</th>\n",
       "      <th>17</th>\n",
       "      <th>18</th>\n",
       "      <th>19</th>\n",
       "      <th>20</th>\n",
       "      <th>21</th>\n",
       "      <th>22</th>\n",
       "      <th>23</th>\n",
       "    </tr>\n",
       "    <tr>\n",
       "      <th>Day of Week</th>\n",
       "      <th></th>\n",
       "      <th></th>\n",
       "      <th></th>\n",
       "      <th></th>\n",
       "      <th></th>\n",
       "      <th></th>\n",
       "      <th></th>\n",
       "      <th></th>\n",
       "      <th></th>\n",
       "      <th></th>\n",
       "      <th></th>\n",
       "      <th></th>\n",
       "      <th></th>\n",
       "      <th></th>\n",
       "      <th></th>\n",
       "      <th></th>\n",
       "      <th></th>\n",
       "      <th></th>\n",
       "      <th></th>\n",
       "      <th></th>\n",
       "      <th></th>\n",
       "    </tr>\n",
       "  </thead>\n",
       "  <tbody>\n",
       "    <tr>\n",
       "      <th>Fri</th>\n",
       "      <td>14</td>\n",
       "      <td>20</td>\n",
       "      <td>14</td>\n",
       "      <td>7</td>\n",
       "      <td>8</td>\n",
       "      <td>14</td>\n",
       "      <td>28</td>\n",
       "      <td>20</td>\n",
       "      <td>17</td>\n",
       "      <td>23</td>\n",
       "      <td>...</td>\n",
       "      <td>40</td>\n",
       "      <td>33</td>\n",
       "      <td>27</td>\n",
       "      <td>43</td>\n",
       "      <td>21</td>\n",
       "      <td>37</td>\n",
       "      <td>30</td>\n",
       "      <td>15</td>\n",
       "      <td>40</td>\n",
       "      <td>25</td>\n",
       "    </tr>\n",
       "    <tr>\n",
       "      <th>Mon</th>\n",
       "      <td>25</td>\n",
       "      <td>19</td>\n",
       "      <td>10</td>\n",
       "      <td>4</td>\n",
       "      <td>8</td>\n",
       "      <td>21</td>\n",
       "      <td>23</td>\n",
       "      <td>19</td>\n",
       "      <td>25</td>\n",
       "      <td>29</td>\n",
       "      <td>...</td>\n",
       "      <td>24</td>\n",
       "      <td>28</td>\n",
       "      <td>20</td>\n",
       "      <td>29</td>\n",
       "      <td>24</td>\n",
       "      <td>31</td>\n",
       "      <td>24</td>\n",
       "      <td>34</td>\n",
       "      <td>31</td>\n",
       "      <td>18</td>\n",
       "    </tr>\n",
       "    <tr>\n",
       "      <th>Sat</th>\n",
       "      <td>14</td>\n",
       "      <td>11</td>\n",
       "      <td>21</td>\n",
       "      <td>5</td>\n",
       "      <td>7</td>\n",
       "      <td>4</td>\n",
       "      <td>10</td>\n",
       "      <td>5</td>\n",
       "      <td>25</td>\n",
       "      <td>31</td>\n",
       "      <td>...</td>\n",
       "      <td>15</td>\n",
       "      <td>29</td>\n",
       "      <td>36</td>\n",
       "      <td>28</td>\n",
       "      <td>22</td>\n",
       "      <td>32</td>\n",
       "      <td>22</td>\n",
       "      <td>24</td>\n",
       "      <td>34</td>\n",
       "      <td>27</td>\n",
       "    </tr>\n",
       "    <tr>\n",
       "      <th>Sun</th>\n",
       "      <td>30</td>\n",
       "      <td>33</td>\n",
       "      <td>9</td>\n",
       "      <td>16</td>\n",
       "      <td>6</td>\n",
       "      <td>4</td>\n",
       "      <td>11</td>\n",
       "      <td>10</td>\n",
       "      <td>21</td>\n",
       "      <td>16</td>\n",
       "      <td>...</td>\n",
       "      <td>13</td>\n",
       "      <td>17</td>\n",
       "      <td>7</td>\n",
       "      <td>40</td>\n",
       "      <td>51</td>\n",
       "      <td>61</td>\n",
       "      <td>29</td>\n",
       "      <td>25</td>\n",
       "      <td>24</td>\n",
       "      <td>6</td>\n",
       "    </tr>\n",
       "    <tr>\n",
       "      <th>Thu</th>\n",
       "      <td>25</td>\n",
       "      <td>19</td>\n",
       "      <td>14</td>\n",
       "      <td>7</td>\n",
       "      <td>5</td>\n",
       "      <td>5</td>\n",
       "      <td>11</td>\n",
       "      <td>16</td>\n",
       "      <td>8</td>\n",
       "      <td>12</td>\n",
       "      <td>...</td>\n",
       "      <td>19</td>\n",
       "      <td>27</td>\n",
       "      <td>24</td>\n",
       "      <td>38</td>\n",
       "      <td>28</td>\n",
       "      <td>28</td>\n",
       "      <td>16</td>\n",
       "      <td>32</td>\n",
       "      <td>20</td>\n",
       "      <td>12</td>\n",
       "    </tr>\n",
       "  </tbody>\n",
       "</table>\n",
       "<p>5 rows × 24 columns</p>\n",
       "</div>"
      ],
      "text/plain": [
       "Hour         0   1   2   3   4   5   6   7   8   9   ...  14  15  16  17  18  \\\n",
       "Day of Week                                          ...                       \n",
       "Fri          14  20  14   7   8  14  28  20  17  23  ...  40  33  27  43  21   \n",
       "Mon          25  19  10   4   8  21  23  19  25  29  ...  24  28  20  29  24   \n",
       "Sat          14  11  21   5   7   4  10   5  25  31  ...  15  29  36  28  22   \n",
       "Sun          30  33   9  16   6   4  11  10  21  16  ...  13  17   7  40  51   \n",
       "Thu          25  19  14   7   5   5  11  16   8  12  ...  19  27  24  38  28   \n",
       "\n",
       "Hour         19  20  21  22  23  \n",
       "Day of Week                      \n",
       "Fri          37  30  15  40  25  \n",
       "Mon          31  24  34  31  18  \n",
       "Sat          32  22  24  34  27  \n",
       "Sun          61  29  25  24   6  \n",
       "Thu          28  16  32  20  12  \n",
       "\n",
       "[5 rows x 24 columns]"
      ]
     },
     "execution_count": 55,
     "metadata": {},
     "output_type": "execute_result"
    }
   ],
   "source": [
    "dayHour = top_reasons_df.groupby(by=['Day of Week','Hour']).count()['Reason'].unstack()\n",
    "dayHour.head()"
   ]
  },
  {
   "cell_type": "code",
   "execution_count": 56,
   "metadata": {},
   "outputs": [
    {
     "data": {
      "text/plain": [
       "<matplotlib.axes._subplots.AxesSubplot at 0x7f9a7dc81990>"
      ]
     },
     "execution_count": 56,
     "metadata": {},
     "output_type": "execute_result"
    },
    {
     "data": {
      "image/png": "[encoded data removed]",
      "text/plain": [
       "<Figure size 864x432 with 2 Axes>"
      ]
     },
     "metadata": {
      "needs_background": "light"
     },
     "output_type": "display_data"
    }
   ],
   "source": [
    "plt.figure(figsize=(12,6))\n",
    "sns.heatmap(dayHour,cmap='viridis')"
   ]
  }
 ],
 "metadata": {
  "kernelspec": {
   "display_name": "Python 3",
   "language": "python",
   "name": "python3"
  },
  "language_info": {
   "codemirror_mode": {
    "name": "ipython",
    "version": 3
   },
   "file_extension": ".py",
   "mimetype": "text/x-python",
   "name": "python",
   "nbconvert_exporter": "python",
   "pygments_lexer": "ipython3",
   "version": "3.7.6"
  }
 },
 "nbformat": 4,
 "nbformat_minor": 4
}
